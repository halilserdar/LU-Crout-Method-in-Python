{
 "cells": [
  {
   "cell_type": "code",
   "execution_count": 11,
   "metadata": {},
   "outputs": [
    {
     "name": "stdout",
     "output_type": "stream",
     "text": [
      "L =  [[-37.28171817154095, 0, 0, 0, 0, 0], [-2.0, -1.268227981178011, 0, 0, 0, 0], [-5.0, 2.3294300470549723, 4.767351940128501, 0, 0, 0], [4.0, -1.463544037643978, 5.169198588997454, 7.892715631677692, 0, 0], [1.0, -3.8658860094109944, 2.1903484126221358, 5.513809971814794, -2.6963464383767737, 0], [2.0, -0.731772018821989, 5.0845992944987275, 4.336354446061336, 0.7315282184361511, 1.3775426005251747]]\n",
      "U =  [[1, -0.13411399058900553, -0.026822798117801108, 0.026822798117801108, -0.026822798117801108, -0.13411399058900553], [0, 1, 0.04229964724936345, 0.7462021165038194, 0.04229964724936345, -0.5770035275063655], [0, 0, 1, -0.755998652088996, -0.8878404852479616, 1.1900777355095133], [0, 0, 0, 1, -0.030582329158697956, -0.818446091645826], [0, 0, 0, 0, 1, -1.4128583087988262], [0, 0, 0, 0, 0, 1]]\n"
     ]
    }
   ],
   "source": [
    "import numpy as np\n",
    "from cmath import e\n",
    "from scipy.linalg import lu, lu_factor, lu_solve\n",
    "def crout(A):\n",
    "    n = len(A)\n",
    "    L = [[0] * n for i in range(n)]\n",
    "    U = [[0] * n for i in range(n)]\n",
    "    for j in range(n):\n",
    "        U[j][j] = 1                    #köşegenler 1\n",
    "        for i in range(j, n):          #L'nin çözümü\n",
    "            alpha = float(A[i][j])\n",
    "            for k in range(j):\n",
    "                alpha -= L[i][k]*U[k][j]\n",
    "            L[i][j] = alpha\n",
    "        for i in range(j+1, n):        #U'nun çözümü\n",
    "            tempU = float(A[j][i])\n",
    "            for k in range(j):\n",
    "                tempU -= L[j][k]*U[k][i]\n",
    "            if int(L[j][j]) == 0:\n",
    "                L[j][j] = e-40\n",
    "            U[j][i] = tempU/L[j][j]\n",
    "    return [L, U]\n",
    "\n",
    "A = ([[0,5,1,-1,1,5], [-2,-1,0,-1,0,1], [-5,3,5,-2,-4,5], [4,-2,5,3,-5,0], [1,-4,2,1,-5,4], [2,-1,5,0,-4,3]])\n",
    "b = np.array([2,-6,10,20,-4,13]); b.shape = (6, 1)\n",
    "L, U = crout(A)[0], crout(A)[1]\n",
    "print (\"L = \", L)\n",
    "print (\"U = \", U)"
   ]
  },
  {
   "cell_type": "code",
   "execution_count": 12,
   "metadata": {},
   "outputs": [
    {
     "name": "stdout",
     "output_type": "stream",
     "text": [
      "[[ 1.00000000e+00]\n",
      " [ 2.00000000e+00]\n",
      " [ 3.00000000e+00]\n",
      " [ 1.86891876e-15]\n",
      " [-1.00000000e+00]\n",
      " [-2.00000000e+00]]\n"
     ]
    },
    {
     "data": {
      "text/plain": [
       "True"
      ]
     },
     "execution_count": 12,
     "metadata": {},
     "output_type": "execute_result"
    }
   ],
   "source": [
    "LU, p = lu_factor(A)\n",
    "x1 = lu_solve((LU, p), b)\n",
    "print(x1)\n",
    "np.allclose(x1, np.linalg.solve(A, b))"
   ]
  }
 ],
 "metadata": {
  "kernelspec": {
   "display_name": "Python 3",
   "language": "python",
   "name": "python3"
  },
  "language_info": {
   "codemirror_mode": {
    "name": "ipython",
    "version": 3
   },
   "file_extension": ".py",
   "mimetype": "text/x-python",
   "name": "python",
   "nbconvert_exporter": "python",
   "pygments_lexer": "ipython3",
   "version": "3.8.5"
  }
 },
 "nbformat": 4,
 "nbformat_minor": 4
}
